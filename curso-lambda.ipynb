{
 "cells": [
  {
   "cell_type": "markdown",
   "metadata": {},
   "source": [
    "# Curso de Python comprehensions, lambdas y manejo de errores "
   ]
  },
  {
   "cell_type": "markdown",
   "metadata": {},
   "source": [
    "## Creación de entornos virtuales"
   ]
  },
  {
   "cell_type": "markdown",
   "metadata": {},
   "source": [
    "Crea un directorio e ingresa en él usando la línea de comandos.    \n",
    "`mkdir code\\curso-lambda`  \n",
    "Ejecuta el siguiente comando para crear un entorno virtual:  \n",
    "`py -m venv virtual-environment-name`  \n",
    "\n",
    "Dentro del directorio aparece una carpeta llamada `venv`. En Windows, dentro de dicha carpeta encontraremos una subcarpeta llamada `Scripts`. En linux, existe una subcarpeta llamada `venv/bin`.  \n",
    "\n",
    "Para activar el entorno virtual usamos el siguiente comando:  \n",
    "Windows:    `.\\venv\\Scripts\\activate`  \n",
    "Linux:      `./venv/bin/activate`  \n",
    "\n",
    "Podemos hacer uso de un alias para simplificar la activación del entorno virtual. Tanto en Windows como en Linux, para desactivar el entorno virtual usamos el comando `deactivate`.\n",
    "\n"
   ]
  },
  {
   "cell_type": "markdown",
   "metadata": {},
   "source": [
    "## Uso de `pip` para instalación de módulos python"
   ]
  },
  {
   "cell_type": "markdown",
   "metadata": {},
   "source": [
    "`pip` significa *package installer for python*  \n",
    "\n",
    "Lista de módulos actualmente instalados: `pip freeze`  \n",
    "Instalar módulo: `pip install 'module'`  \n",
    "\n",
    "Listar las dependencias instaladas en el entorno actual: \n",
    "\n",
    "`pip freeze > requirements.txt` \n",
    " \n",
    "Nótese el uso de `>` para redireccionar la salida del comando a un archivo de texto.  \n",
    "\n",
    "\n",
    "Si queremos instalar las dependencias exactas con las versiones exactas requeridas de cada módulo, usamos el comando `pip install` con una *flag* determinada, usando como argumento el archivo de texto que contiene las dependencias:  \n",
    "\n",
    "`pip install -r requirements.txt`  \n",
    "\n"
   ]
  },
  {
   "cell_type": "markdown",
   "metadata": {},
   "source": [
    "## Entry point"
   ]
  },
  {
   "cell_type": "markdown",
   "metadata": {},
   "source": [
    "Procedimiento para crear un *entry point*. De esta forma, el contenido del script solo se ejecutará si ejecutamos directamente el script. Si simplemente importamos el módulo, se importará el contenido como una función `main()` pero no se ejecutará."
   ]
  },
  {
   "cell_type": "code",
   "execution_count": 23,
   "metadata": {},
   "outputs": [],
   "source": [
    "def main():\n",
    "    pass\n",
    "\n",
    "if __name__ == '__main__' :\n",
    "    main()"
   ]
  },
  {
   "cell_type": "markdown",
   "metadata": {},
   "source": [
    "### List comprehensions"
   ]
  },
  {
   "cell_type": "markdown",
   "metadata": {},
   "source": [
    "#### Objetivo: crear lista con el cubo de los 20 primeros números naturales"
   ]
  },
  {
   "cell_type": "code",
   "execution_count": 24,
   "metadata": {},
   "outputs": [
    {
     "name": "stdout",
     "output_type": "stream",
     "text": [
      "[,1,8,27,64,125,216,343,512,729,1000,1331,1728,2197,2744,3375,4096,4913,5832,6859,8000,]\n"
     ]
    }
   ],
   "source": [
    "# usando loop for\n",
    "cubes = []\n",
    "for i in range(1,21):\n",
    "    cubes.append(i**3)\n",
    "print('[',*cubes, ']', sep=',')"
   ]
  },
  {
   "cell_type": "code",
   "execution_count": 25,
   "metadata": {},
   "outputs": [
    {
     "name": "stdout",
     "output_type": "stream",
     "text": [
      "[,1,8,27,64,125,216,343,512,729,1000,1331,1728,2197,2744,3375,4096,4913,5832,6859,8000,]\n"
     ]
    }
   ],
   "source": [
    "# usando list comprehension\n",
    "\n",
    "# list comprehension structure\n",
    "# [ item for item in iterator]\n",
    "cubes = [i**3 for i in range(1,21)]\n",
    "print('[',*cubes, ']', sep=',')"
   ]
  },
  {
   "cell_type": "code",
   "execution_count": 26,
   "metadata": {},
   "outputs": [
    {
     "name": "stdout",
     "output_type": "stream",
     "text": [
      "[,8,64,216,512,1000,1728,2744,]\n"
     ]
    }
   ],
   "source": [
    "# list comprehension usando una condición para filtrar los valores que componen la lista\n",
    "# lista de los cubos de los números pares cuyo cubo no sobrepase el valor de 4000\n",
    "cubes = [i**3 for i in range(1,21) if i**3 % 2 == 0 and i**3 <= 4000]\n",
    "print('[',*cubes, ']', sep=',')"
   ]
  },
  {
   "cell_type": "markdown",
   "metadata": {},
   "source": [
    "### Dictionary comprehensions"
   ]
  },
  {
   "cell_type": "markdown",
   "metadata": {},
   "source": [
    "#### Diccionario que contenga los 10 primeros números naturales y sus cubos, en forma de diccionario"
   ]
  },
  {
   "cell_type": "code",
   "execution_count": 27,
   "metadata": {},
   "outputs": [
    {
     "name": "stdout",
     "output_type": "stream",
     "text": [
      "Número: 1 --> Cubo: 1\n",
      "Número: 2 --> Cubo: 8\n",
      "Número: 3 --> Cubo: 27\n",
      "Número: 4 --> Cubo: 64\n",
      "Número: 5 --> Cubo: 125\n",
      "Número: 6 --> Cubo: 216\n",
      "Número: 7 --> Cubo: 343\n",
      "Número: 8 --> Cubo: 512\n",
      "Número: 9 --> Cubo: 729\n",
      "Número: 10 --> Cubo: 1000\n"
     ]
    }
   ],
   "source": [
    "dic = {i : i**3 for i in range(1,11)}\n",
    "for key, value in dic.items():\n",
    "    print(f'Número: {key} --> Cubo: {value}')"
   ]
  },
  {
   "cell_type": "markdown",
   "metadata": {},
   "source": [
    "#### Diccionario que use dos listas de valores independientes para generar los pares clave:valor"
   ]
  },
  {
   "cell_type": "code",
   "execution_count": 10,
   "metadata": {},
   "outputs": [
    {
     "name": "stdout",
     "output_type": "stream",
     "text": [
      "+-----+----+\n",
      "|   x |  y |\n",
      "+-----+----+\n",
      "|  48 |  6 |\n",
      "|   9 | -2 |\n",
      "|  55 | -8 |\n",
      "| 100 | -2 |\n",
      "|   3 |  7 |\n",
      "|  32 | -6 |\n",
      "|  15 | -3 |\n",
      "|  97 |  5 |\n",
      "|  69 |  4 |\n",
      "|  26 |  2 |\n",
      "+-----+----+\n",
      "{48: 6, 9: -2, 55: -8, 100: -2, 3: 7, 32: -6, 15: -3, 97: 5, 69: 4, 26: 2}\n"
     ]
    }
   ],
   "source": [
    "from random import randint\n",
    "from prettytable import PrettyTable\n",
    "# genera 10 números aleatorios como coordenada x\n",
    "x = [randint(1,100) for i in range(10)]\n",
    "# genera 10 números aleatorios como coordenada y\n",
    "y = [randint(-10,10) for i in range(10)]\n",
    "table = PrettyTable()\n",
    "table.field_names = ['x', 'y']\n",
    "table.add_rows([[x,y] for x,y in zip(x,y)])\n",
    "table.align = 'r'\n",
    "print(table)\n",
    "# Dictionary comprehension with two values from same size lists\n",
    "dic = {k:v for k,v in zip(x,y)}\n",
    "print(dic)"
   ]
  },
  {
   "cell_type": "markdown",
   "metadata": {},
   "source": [
    "#### Dictionary and list comprehension con valores sujetos a una condición"
   ]
  },
  {
   "cell_type": "code",
   "execution_count": 11,
   "metadata": {},
   "outputs": [
    {
     "data": {
      "text/plain": [
       "{48: 6, 9: -2, 55: -8, 100: -2, 3: 7, 32: -6, 15: -3, 97: 5, 69: 4, 26: 2}"
      ]
     },
     "execution_count": 11,
     "metadata": {},
     "output_type": "execute_result"
    }
   ],
   "source": [
    "dic"
   ]
  },
  {
   "cell_type": "code",
   "execution_count": 16,
   "metadata": {},
   "outputs": [
    {
     "name": "stdout",
     "output_type": "stream",
     "text": [
      "{0: 6, 4: 7, 7: 5, 8: 4, 9: 2}\n",
      "[3, 6, 9, 12, 15, 18, 21, 24, 27, 30, 33, 36, 39, 42, 45, 48, 51, 54, 57, 60, 63, 66, 69]\n"
     ]
    }
   ],
   "source": [
    "# dic que contenga solo los pares en los cuales su coordenada \"y\" es positiva\n",
    "print({k:v for k,v in zip(x,y) if v>0})\n",
    "# lista que contenga solo los números comprendidos entre 1 y 100\n",
    "# que sean múltiplo de 3 y sean menores de 70\n",
    "x = [i for i in range(1,101)]\n",
    "print([i for i in x if i % 3 == 0 and i < 70])"
   ]
  },
  {
   "cell_type": "markdown",
   "metadata": {},
   "source": [
    "## Lambda functions"
   ]
  },
  {
   "cell_type": "markdown",
   "metadata": {},
   "source": [
    "Las funciones anónimas `lambda` no usan ni `def`, ni usan `return` y además tienen que estar contenidas en una única línea."
   ]
  },
  {
   "cell_type": "code",
   "execution_count": 30,
   "metadata": {},
   "outputs": [
    {
     "name": "stdout",
     "output_type": "stream",
     "text": [
      "9\n"
     ]
    }
   ],
   "source": [
    "# lambda argument : operations\n",
    "cuadrado = lambda x: x**2\n",
    "print(cuadrado(3))"
   ]
  },
  {
   "cell_type": "markdown",
   "metadata": {},
   "source": [
    "### High order functions  \n",
    "Funciones que usan a otras funciones como argumento"
   ]
  },
  {
   "cell_type": "code",
   "execution_count": 20,
   "metadata": {},
   "outputs": [],
   "source": [
    "def sumar(*args):\n",
    "    total = 0\n",
    "    for i in args:\n",
    "        total += i\n",
    "    return total\n",
    "\n",
    "\n",
    "def restar(*args):\n",
    "    result = args[0]\n",
    "    for i in args[1:]:\n",
    "        result -= i\n",
    "    return result\n",
    "\n",
    "\n",
    "def multiplicar(*args):\n",
    "    result = args[0]\n",
    "    for i in args:\n",
    "        result *= i\n",
    "    return result\n",
    "\n",
    "\n",
    "def dividir(num, den):\n",
    "    return f'Cociente: {num//den}, resto: {num % den}'\n",
    "\n",
    "\n",
    "def calculadora(func, *args):\n",
    "    return func(*args)"
   ]
  },
  {
   "cell_type": "markdown",
   "metadata": {},
   "source": [
    "La *función de orden superior* `calculadora` toma como argumentos la operación a realizar y los números sobre los que aplicar la operación:"
   ]
  },
  {
   "cell_type": "code",
   "execution_count": 27,
   "metadata": {},
   "outputs": [
    {
     "name": "stdout",
     "output_type": "stream",
     "text": [
      "Una suma:\n",
      "11\n",
      "Una división\n",
      "Cociente: 3, resto: 1\n",
      "Una resta:\n",
      "4\n"
     ]
    }
   ],
   "source": [
    "print('Una suma:')\n",
    "print(calculadora(sumar, 2,5,4))\n",
    "print('Una división')\n",
    "print(calculadora(dividir, 25,8))\n",
    "print('Una resta:')\n",
    "print(calculadora(restar, 10,2,4))\n"
   ]
  },
  {
   "cell_type": "code",
   "execution_count": null,
   "metadata": {},
   "outputs": [],
   "source": []
  }
 ],
 "metadata": {
  "interpreter": {
   "hash": "7cf3cfb4d2a53586223bf4603cd7f9e645cf44a77dbcec96182c9a81e54296ad"
  },
  "kernelspec": {
   "display_name": "Python 3.9.9 64-bit (windows store)",
   "language": "python",
   "name": "python3"
  },
  "language_info": {
   "codemirror_mode": {
    "name": "ipython",
    "version": 3
   },
   "file_extension": ".py",
   "mimetype": "text/x-python",
   "name": "python",
   "nbconvert_exporter": "python",
   "pygments_lexer": "ipython3",
   "version": "3.9.2"
  },
  "orig_nbformat": 4
 },
 "nbformat": 4,
 "nbformat_minor": 2
}
